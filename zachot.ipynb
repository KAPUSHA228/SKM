{
 "cells": [
  {
   "cell_type": "code",
   "execution_count": 0,
   "outputs": [],
   "source": [
    "import numpy as np\n",
    "from scipy import linalg\n",
    "import matplotlib.pyplot as plt\n",
    "from scipy.optimize import curve_fit\n",
    "%matplotlib inline\n",
    "## 29. Нелинейный метод наименьших квадратов\n",
    "\n",
    "[Ratkowsky D. A. Nonlinear Regression Modeling. 1983]\n",
    "\n",
    "Нелинейным методом наименьших квадратов\n",
    "построить модели вида\n",
    "$$\n",
    "y = \\frac{\\beta_1}{1 + \\beta_2 e^{-\\beta_3 t}},\n",
    "\\qquad\n",
    "\\mbox{и}\n",
    "\\qquad\n",
    "y = \\frac{\\beta_1}{(1 + \\beta_2 e^{-\\beta_3 t})^{1/\\beta_4}},\n",
    "$$\n",
    "для данных, приведенных в таблице\n",
    "```\n",
    "    t         y\n",
    "  ----------------\n",
    "    1       16.08\n",
    "    2       33.83\n",
    "    3       65.80\n",
    "    4       97.20\n",
    "    5      191.55\n",
    "    6      326.20\n",
    "    7      386.87\n",
    "    8      520.53\n",
    "    9      590.03\n",
    "   10      651.92\n",
    "   11      724.93\n",
    "   12      699.56\n",
    "   13      689.96\n",
    "   14      637.56\n",
    "   15      717.41\n",
    "```\n",
    "Предиктор $t$ – время,\n",
    "переменная отклика $y$ – вес сухой луковицы вместе с надземной частью растения.\n",
    "Найти общую ошибку в каждом из этих случаев и сравнить результаты."
   ],
   "metadata": {
    "collapsed": false
   }
  },
  {
   "cell_type": "code",
   "execution_count": 249,
   "outputs": [
    {
     "ename": "SyntaxError",
     "evalue": "invalid syntax (3115586898.py, line 3)",
     "output_type": "error",
     "traceback": [
      "\u001B[1;36m  Cell \u001B[1;32mIn[249], line 3\u001B[1;36m\u001B[0m\n\u001B[1;33m    *Магическим квадратом* порядка $n$ называется $n\\times n$ матрица $A=(a_{ij})$, заполненная числами от $1$ до $n$, такая, что сумма элементов в каждой строке, каждом столбце и на обеих диагоналях есть величина постоянная, равная, очевидно,\u001B[0m\n\u001B[1;37m                ^\u001B[0m\n\u001B[1;31mSyntaxError\u001B[0m\u001B[1;31m:\u001B[0m invalid syntax\n"
     ]
    }
   ],
   "source": [
    "\n",
    "# 50. Магические квадраты\n",
    "\n",
    "*Магическим квадратом* порядка $n$ называется $n\\times n$ матрица $A=(a_{ij})$, заполненная числами от $1$ до $n$, такая, что сумма элементов в каждой строке, каждом столбце и на обеих диагоналях есть величина постоянная, равная, очевидно,\n",
    "$$\n",
    "N = \\frac{(n - 1)\\,n\\,(n + 1)}{2}.\n",
    "$$\n",
    "Величина $N$ называется *постоянной магического квадрата*.\n",
    "\n",
    "Магического квдрата порядка $2$ не существует.\n",
    "Вот магический квадрат порядка $3$ (он единственен с точностью до поворотов и отражений):\n",
    "$$\n",
    "\\left(\n",
    "  \\begin{array}{ccc}\n",
    "  2 & 7 & 6 \\\\\n",
    "  9 & 5 & 1 \\\\\n",
    "  4 & 3 & 8  \\\\\n",
    "  \\end{array}\n",
    "\\right)\n",
    "$$\n",
    "\n",
    "Сформулируйте задачу построения магического квадрата порядка $n$ как задачу целочисленного (булева) линейного программирования. Для этого введите булевы переменные $x_{ijk}$ ($i=1,2,\\dots,n$; $j=1,2,\\dots,n$; $k=1,2,\\dots,n^2$), причем\n",
    "$$\n",
    "x_{ijk} = 1 \\quad \\Leftrightarrow \\quad\n",
    "a_{ij} = k.\n",
    "$$\n",
    "\n",
    "Как записать ограничения задачи?\n",
    "Они должны описывать следующие условия:\n",
    "\n",
    "- в каждой клетке квадрата записано ровно одно число от $1$ до $n^2$ (одно ограничение);\n",
    "- магический квадрат содержит все числа от $1$ до $n^2$ (одно ограничение);\n",
    "- сумма элементов в каждой строке равна $N$ ($n$ ограничений);\n",
    "- сумма элементов в каждом столбце равна $N$ ($n$ ограничений);\n",
    "- сумма элементов на обеих диагоналях равна $N$ ($2$ ограничения).\n",
    "\n",
    "Запишите условия задачи, используя язык моделирования, например,из библиотки `pulp` или другой подобной. Решите задачу средствами библиотеки для $n=3,4,5$ и, по желанию, при других $n$.\n",
    "\n",
    "Сколько времени тратит ваша программа?\n"
   ],
   "metadata": {
    "collapsed": false,
    "ExecuteTime": {
     "end_time": "2023-05-07T23:37:13.368163600Z",
     "start_time": "2023-05-07T23:37:13.321153500Z"
    }
   }
  },
  {
   "cell_type": "code",
   "execution_count": 248,
   "outputs": [
    {
     "ename": "IndentationError",
     "evalue": "unindent does not match any outer indentation level (<tokenize>, line 22)",
     "output_type": "error",
     "traceback": [
      "\u001B[1;36m  File \u001B[1;32m<tokenize>:22\u001B[1;36m\u001B[0m\n\u001B[1;33m    ----------------\u001B[0m\n\u001B[1;37m    ^\u001B[0m\n\u001B[1;31mIndentationError\u001B[0m\u001B[1;31m:\u001B[0m unindent does not match any outer indentation level\n"
     ]
    }
   ],
   "source": [],
   "metadata": {
    "collapsed": false,
    "ExecuteTime": {
     "end_time": "2023-05-07T23:34:43.571579800Z",
     "start_time": "2023-05-07T23:34:43.562578900Z"
    }
   }
  },
  {
   "cell_type": "code",
   "execution_count": null,
   "outputs": [],
   "source": [
    "\n",
    "#подключение библиотек и задание начальных значений\n",
    "\n",
    "\n",
    "t = np.arange(1,16,1)\n",
    "y= [16.08,33.83,65.80,97.20,191.55,326.20,386.87,520.53,590.03,651.92,724.93,699.56,689.96,637.56,717.41]"
   ],
   "metadata": {
    "collapsed": false
   }
  },
  {
   "cell_type": "code",
   "execution_count": null,
   "outputs": [],
   "source": [
    "#задание нужных функций f1 и f2\n",
    "def f1(t,b1,b2,b3):\n",
    "    return b1 / (1 + b2*np.exp(-1*b3*t))\n",
    "def f2(t,b1,b2,b3,b4):\n",
    "    return b1 / ((1+b2*np.exp(-1*b3*t))**(1/b4))"
   ],
   "metadata": {
    "collapsed": false
   }
  },
  {
   "cell_type": "code",
   "execution_count": null,
   "outputs": [],
   "source": [
    "#так как функция curve_fit возвращает два массива, последний из которых нами не используется,\n",
    "# то и задать имя мы можем только первому массиву (название переменной\"_\" помогает компилятору понять,\n",
    "# что переменная неважна или не используется в дальнейшем коде)\n",
    "pn = [700,8.5,0.7]\n",
    "bn, _ = curve_fit(f1, t, y,pn)\n",
    "print(\"Для f1 [β1 β2 β3] =\", bn)\n",
    "pm = [700,200,0.7,1.3]\n",
    "bm, _ = curve_fit(f2, t, y,pm)\n",
    "print(\"Для f2 [β1 β2 β3 β4] =\", bm)\n",
    "plt.title(r'$\\alpha_i > beta_i$')\n",
    "plt.plot(t, f1(t,*bn),   \"mo\", label='Предсказанные значения для 3 параметров по МНК')\n",
    "plt.plot(t, f2(t,*bm),  label='Предсказанные значения для 4 параметров по МНК')\n",
    "plt.plot(t, y,  label='Реальные значения')\n",
    "plt.legend(loc=4,fontsize=8)"
   ],
   "metadata": {
    "collapsed": false
   }
  },
  {
   "cell_type": "code",
   "execution_count": null,
   "outputs": [],
   "source": [
    "#для расчитывания ошибки в каждом из случаев будем использовать нормы: Манхеттенскую, Чебышевскую, Евклидову\n",
    "\n",
    "print((linalg.norm(f1(t, *bn),1)), 'ошибка функции для 3 параметров, Манхетеннская норма')\n",
    "print((linalg.norm(f2(t, *bm),1)), 'ошибка функции для 4 параметров, Манхетеннская норма')\n",
    "\n",
    "print((linalg.norm(f1(t, *bn),2)), 'ошибка функции для 3 параметров, Евклидова норма')\n",
    "print((linalg.norm(f2(t, *bm),2)), 'ошибка функции для 4 параметров, Евклидова норма')\n",
    "\n",
    "print((linalg.norm(f1(t, *bn),np.Inf)), 'ошибка функции для 3 параметров, Чебышевская норма')\n",
    "print((linalg.norm(f2(t, *bm),np.Inf)), 'ошибка функции для 4 параметров, Чебышевская норма')"
   ],
   "metadata": {
    "collapsed": false
   }
  },
  {
   "cell_type": "code",
   "execution_count": null,
   "outputs": [],
   "source": [
    "#Выводы"
   ],
   "metadata": {
    "collapsed": false
   }
  },
  {
   "cell_type": "code",
   "execution_count": null,
   "outputs": [],
   "source": [],
   "metadata": {
    "collapsed": false
   }
  },
  {
   "cell_type": "code",
   "execution_count": null,
   "outputs": [],
   "source": [],
   "metadata": {
    "collapsed": false
   }
  }
 ],
 "metadata": {
  "kernelspec": {
   "display_name": "Python 3",
   "language": "python",
   "name": "python3"
  },
  "language_info": {
   "codemirror_mode": {
    "name": "ipython",
    "version": 2
   },
   "file_extension": ".py",
   "mimetype": "text/x-python",
   "name": "python",
   "nbconvert_exporter": "python",
   "pygments_lexer": "ipython2",
   "version": "2.7.6"
  }
 },
 "nbformat": 4,
 "nbformat_minor": 0
}
